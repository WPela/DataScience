{
  "nbformat": 4,
  "nbformat_minor": 0,
  "metadata": {
    "colab": {
      "provenance": [],
      "authorship_tag": "ABX9TyPXKvf8mFIda4Yn55poPyqp",
      "include_colab_link": true
    },
    "kernelspec": {
      "name": "python3",
      "display_name": "Python 3"
    },
    "language_info": {
      "name": "python"
    }
  },
  "cells": [
    {
      "cell_type": "markdown",
      "metadata": {
        "id": "view-in-github",
        "colab_type": "text"
      },
      "source": [
        "<a href=\"https://colab.research.google.com/github/WPela/DataScience_2023/blob/main/Derivatives/Option_pricing_BS_sim.ipynb\" target=\"_parent\"><img src=\"https://colab.research.google.com/assets/colab-badge.svg\" alt=\"Open In Colab\"/></a>"
      ]
    },
    {
      "cell_type": "code",
      "execution_count": null,
      "metadata": {
        "id": "xnEXWjx____I"
      },
      "outputs": [],
      "source": [
        "import numpy as np\n",
        "from scipy.stats import norm"
      ]
    },
    {
      "cell_type": "markdown",
      "source": [
        "### Black Scholes"
      ],
      "metadata": {
        "id": "m3PEaq-XAwBL"
      }
    },
    {
      "cell_type": "code",
      "source": [
        "S_0 = 48 #initial price\n",
        "K = 50 #strike price\n",
        "r = 0.1  #risk\n",
        "sigma = 0.20 #volatility\n",
        "T = 0.25 # 3 months\n",
        "N = 252 # 252 days in a year\n",
        "dt = T / N # time step\n",
        "N_SIMS = 1_000_000 # number of simulations\n",
        "discount_factor = np.exp(-r * T)"
      ],
      "metadata": {
        "id": "u4crIX6cOUg0"
      },
      "execution_count": null,
      "outputs": []
    },
    {
      "cell_type": "code",
      "source": [
        "def black_scholes_analytical(S_0, K, T, r, sigma, type=\"call\"):\n",
        "    \"\"\"\n",
        "    Function used for calculating the price of European options using the\n",
        "    analytical form of the Black-Scholes model.\n",
        "\n",
        "    Parameters\n",
        "    ------------\n",
        "    s_0 : float\n",
        "        Initial stock price\n",
        "    K : float\n",
        "        Strike price\n",
        "    T : float\n",
        "        Time to maturity in years\n",
        "    r : float\n",
        "        Annualized risk-free rate\n",
        "    sigma : float\n",
        "        Standard deviation of the stock returns\n",
        "    type : str\n",
        "        Type of the option. Can be one of the following: [\"call\", \"put\"]\n",
        "\n",
        "    Returns\n",
        "    -----------\n",
        "    option_premium : float\n",
        "        The premium on the option calculated using the Black-Scholes model\n",
        "    \"\"\"\n",
        "\n",
        "    d1 = (\n",
        "        np.log(S_0/K) + (r+0.5*sigma**2) * T) / (sigma*np.sqrt(T)\n",
        "    )\n",
        "    d2 = d1 - sigma * np.sqrt(T)\n",
        "    if type == \"call\":\n",
        "        N_d1 = norm.cdf(d1, 0, 1)\n",
        "        N_d2 = norm.cdf(d2, 0, 1)\n",
        "        val = S_0 * N_d1 - K * np.exp(-r * T) * N_d2\n",
        "    else:\n",
        "        type == \"put\"\n",
        "        N_d1 = norm.cdf(-d1, 0, 1)\n",
        "        N_d2 = norm.cdf(-d2, 0, 1)\n",
        "        val = K * np.exp(-r * T) * N_d2 - S_0 * N_d1\n",
        "\n",
        "\n",
        "    return val"
      ],
      "metadata": {
        "id": "Z2iv41yLOnH5"
      },
      "execution_count": null,
      "outputs": []
    },
    {
      "cell_type": "markdown",
      "source": [],
      "metadata": {
        "id": "qI6GgFsLWl2a"
      }
    },
    {
      "cell_type": "markdown",
      "source": [
        "Europiean call option price"
      ],
      "metadata": {
        "id": "A0mQkoQsWm0g"
      }
    },
    {
      "cell_type": "code",
      "source": [
        "black_scholes_analytical(S_0=S_0, K=K, T=T,\n",
        "                         r=r, sigma=sigma,\n",
        "                         type=\"call\")"
      ],
      "metadata": {
        "colab": {
          "base_uri": "https://localhost:8080/"
        },
        "id": "f1qmg9B9OoUL",
        "outputId": "4d58e009-f0d0-48c5-eef9-0bc8ba3a785f"
      },
      "execution_count": null,
      "outputs": [
        {
          "output_type": "execute_result",
          "data": {
            "text/plain": [
              "1.5707193922759046"
            ]
          },
          "metadata": {},
          "execution_count": 4
        }
      ]
    },
    {
      "cell_type": "markdown",
      "source": [
        "### Geometric Brownian Motion"
      ],
      "metadata": {
        "id": "RT-MhxD1Wiwt"
      }
    },
    {
      "cell_type": "code",
      "source": [
        "def simulate_gbm(s_0, mu, sigma, n_sims, T, N, random_seed=42,\n",
        "                 antithetic_var=False):\n",
        "    \"\"\"\n",
        "    Function used for simulating stock returns using Geometric Brownian Motion.\n",
        "\n",
        "    Parameters\n",
        "    ------------\n",
        "    s_0 : float\n",
        "        Initial stock price\n",
        "    mu : float\n",
        "        Drift coefficient\n",
        "    sigma : float\n",
        "        Diffusion coefficient\n",
        "    n_sims : int\n",
        "        Number of simulations paths\n",
        "    dt : float\n",
        "        Time increment, most commonly a day\n",
        "    T : float\n",
        "        Length of the forecast horizon, same unit as dt\n",
        "    N : int\n",
        "        Number of time increments in the forecast horizon\n",
        "    random_seed : int\n",
        "        Random seed for reproducibility\n",
        "    antithetic_var : bool\n",
        "        Boolean whether to use antithetic variates approach to reduce variance\n",
        "\n",
        "    Returns\n",
        "    -----------\n",
        "    S_t : np.ndarray\n",
        "        Matrix (size: n_sims x (T+1)) containing the simulation results.\n",
        "        Rows respresent sample paths, while columns point of time.\n",
        "    \"\"\"\n",
        "\n",
        "    np.random.seed(random_seed)\n",
        "\n",
        "    # time increment\n",
        "    dt = T/N\n",
        "\n",
        "    # Brownian\n",
        "    dW = np.random.normal(scale = np.sqrt(dt),\n",
        "                              size=(n_sims, N + 1))\n",
        "\n",
        "    # simulate the evolution of the process\n",
        "    S_t = s_0 * np.exp(np.cumsum((mu - 0.5 * sigma ** 2) * dt + sigma * dW,\n",
        "                                 axis=1))\n",
        "    S_t[:, 0] = s_0\n",
        "\n",
        "    return S_t"
      ],
      "metadata": {
        "id": "Wst483l9RKTJ"
      },
      "execution_count": null,
      "outputs": []
    },
    {
      "cell_type": "code",
      "source": [
        "gbm_sims = simulate_gbm(s_0=S_0, mu=r, sigma=sigma,\n",
        "                        n_sims=N_SIMS, T=T, N=N)"
      ],
      "metadata": {
        "id": "qr9m8fpORD-2"
      },
      "execution_count": null,
      "outputs": []
    },
    {
      "cell_type": "markdown",
      "source": [
        "European call option premium simulated with Geometric Brownian Motion"
      ],
      "metadata": {
        "id": "Xew_a-bJWvSn"
      }
    },
    {
      "cell_type": "code",
      "source": [
        "premium = (\n",
        "    discount_factor * np.mean(np.maximum(0, gbm_sims[:, -1] - K))\n",
        ")\n",
        "premium"
      ],
      "metadata": {
        "colab": {
          "base_uri": "https://localhost:8080/"
        },
        "id": "tkGYmRVeRFBj",
        "outputId": "52233307-5a04-4c16-b2bc-6a0588a7ee2f"
      },
      "execution_count": null,
      "outputs": [
        {
          "output_type": "execute_result",
          "data": {
            "text/plain": [
              "1.5710143386417244"
            ]
          },
          "metadata": {},
          "execution_count": 7
        }
      ]
    }
  ]
}