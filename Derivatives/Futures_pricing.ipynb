{
  "nbformat": 4,
  "nbformat_minor": 0,
  "metadata": {
    "colab": {
      "provenance": [],
      "authorship_tag": "ABX9TyOvh29q+qGgNB70tHoZMmjC",
      "include_colab_link": true
    },
    "kernelspec": {
      "name": "python3",
      "display_name": "Python 3"
    },
    "language_info": {
      "name": "python"
    }
  },
  "cells": [
    {
      "cell_type": "markdown",
      "metadata": {
        "id": "view-in-github",
        "colab_type": "text"
      },
      "source": [
        "<a href=\"https://colab.research.google.com/github/WPela/DataScience_2023/blob/main/Derivatives/Futures_pricing.ipynb\" target=\"_parent\"><img src=\"https://colab.research.google.com/assets/colab-badge.svg\" alt=\"Open In Colab\"/></a>"
      ]
    },
    {
      "cell_type": "code",
      "execution_count": 835,
      "metadata": {
        "id": "-_fZwKqLcue_"
      },
      "outputs": [],
      "source": [
        "import numpy as np\n",
        "import math\n",
        "import yfinance as yf\n",
        "from datetime import date"
      ]
    },
    {
      "cell_type": "code",
      "source": [
        "ASSETS = [\"ES=F\", \"^SPX\"]  ##S&P 500 future and index\n",
        "START_DATE = \"2023-07-01\"\n",
        "END_DATE = date.today()"
      ],
      "metadata": {
        "id": "tlQF0l2NeD8x"
      },
      "execution_count": 836,
      "outputs": []
    },
    {
      "cell_type": "code",
      "source": [
        "df = yf.download(ASSETS,\n",
        "                 start=START_DATE,\n",
        "                 end=END_DATE)"
      ],
      "metadata": {
        "colab": {
          "base_uri": "https://localhost:8080/"
        },
        "id": "T5F2N27eeG8H",
        "outputId": "9494faa7-983a-4a45-8fa0-e72708e6bf2f"
      },
      "execution_count": 837,
      "outputs": [
        {
          "output_type": "stream",
          "name": "stdout",
          "text": [
            "\r[                       0%                       ]\r[*********************100%***********************]  2 of 2 completed\n"
          ]
        }
      ]
    },
    {
      "cell_type": "markdown",
      "source": [
        "Last available day in the yfinance"
      ],
      "metadata": {
        "id": "pJbaRcfO3Gsw"
      }
    },
    {
      "cell_type": "code",
      "source": [
        "df = df[\"Adj Close\"]\n",
        "df = df.iloc[[-1]]\n",
        "df"
      ],
      "metadata": {
        "colab": {
          "base_uri": "https://localhost:8080/",
          "height": 112
        },
        "id": "EI-kYZD3rkrd",
        "outputId": "70efd2f6-bfd8-4db9-aca0-81c30d4c9785"
      },
      "execution_count": 838,
      "outputs": [
        {
          "output_type": "execute_result",
          "data": {
            "text/plain": [
              "              ES=F         ^SPX\n",
              "Date                           \n",
              "2023-07-20  4565.5  4534.870117"
            ],
            "text/html": [
              "\n",
              "\n",
              "  <div id=\"df-4b370067-e0be-4b2a-a3a1-c99b78047150\">\n",
              "    <div class=\"colab-df-container\">\n",
              "      <div>\n",
              "<style scoped>\n",
              "    .dataframe tbody tr th:only-of-type {\n",
              "        vertical-align: middle;\n",
              "    }\n",
              "\n",
              "    .dataframe tbody tr th {\n",
              "        vertical-align: top;\n",
              "    }\n",
              "\n",
              "    .dataframe thead th {\n",
              "        text-align: right;\n",
              "    }\n",
              "</style>\n",
              "<table border=\"1\" class=\"dataframe\">\n",
              "  <thead>\n",
              "    <tr style=\"text-align: right;\">\n",
              "      <th></th>\n",
              "      <th>ES=F</th>\n",
              "      <th>^SPX</th>\n",
              "    </tr>\n",
              "    <tr>\n",
              "      <th>Date</th>\n",
              "      <th></th>\n",
              "      <th></th>\n",
              "    </tr>\n",
              "  </thead>\n",
              "  <tbody>\n",
              "    <tr>\n",
              "      <th>2023-07-20</th>\n",
              "      <td>4565.5</td>\n",
              "      <td>4534.870117</td>\n",
              "    </tr>\n",
              "  </tbody>\n",
              "</table>\n",
              "</div>\n",
              "      <button class=\"colab-df-convert\" onclick=\"convertToInteractive('df-4b370067-e0be-4b2a-a3a1-c99b78047150')\"\n",
              "              title=\"Convert this dataframe to an interactive table.\"\n",
              "              style=\"display:none;\">\n",
              "\n",
              "  <svg xmlns=\"http://www.w3.org/2000/svg\" height=\"24px\"viewBox=\"0 0 24 24\"\n",
              "       width=\"24px\">\n",
              "    <path d=\"M0 0h24v24H0V0z\" fill=\"none\"/>\n",
              "    <path d=\"M18.56 5.44l.94 2.06.94-2.06 2.06-.94-2.06-.94-.94-2.06-.94 2.06-2.06.94zm-11 1L8.5 8.5l.94-2.06 2.06-.94-2.06-.94L8.5 2.5l-.94 2.06-2.06.94zm10 10l.94 2.06.94-2.06 2.06-.94-2.06-.94-.94-2.06-.94 2.06-2.06.94z\"/><path d=\"M17.41 7.96l-1.37-1.37c-.4-.4-.92-.59-1.43-.59-.52 0-1.04.2-1.43.59L10.3 9.45l-7.72 7.72c-.78.78-.78 2.05 0 2.83L4 21.41c.39.39.9.59 1.41.59.51 0 1.02-.2 1.41-.59l7.78-7.78 2.81-2.81c.8-.78.8-2.07 0-2.86zM5.41 20L4 18.59l7.72-7.72 1.47 1.35L5.41 20z\"/>\n",
              "  </svg>\n",
              "      </button>\n",
              "\n",
              "\n",
              "\n",
              "    <div id=\"df-545b8745-5804-4164-b831-9bf950e0d5e0\">\n",
              "      <button class=\"colab-df-quickchart\" onclick=\"quickchart('df-545b8745-5804-4164-b831-9bf950e0d5e0')\"\n",
              "              title=\"Suggest charts.\"\n",
              "              style=\"display:none;\">\n",
              "\n",
              "<svg xmlns=\"http://www.w3.org/2000/svg\" height=\"24px\"viewBox=\"0 0 24 24\"\n",
              "     width=\"24px\">\n",
              "    <g>\n",
              "        <path d=\"M19 3H5c-1.1 0-2 .9-2 2v14c0 1.1.9 2 2 2h14c1.1 0 2-.9 2-2V5c0-1.1-.9-2-2-2zM9 17H7v-7h2v7zm4 0h-2V7h2v10zm4 0h-2v-4h2v4z\"/>\n",
              "    </g>\n",
              "</svg>\n",
              "      </button>\n",
              "    </div>\n",
              "\n",
              "<style>\n",
              "  .colab-df-quickchart {\n",
              "    background-color: #E8F0FE;\n",
              "    border: none;\n",
              "    border-radius: 50%;\n",
              "    cursor: pointer;\n",
              "    display: none;\n",
              "    fill: #1967D2;\n",
              "    height: 32px;\n",
              "    padding: 0 0 0 0;\n",
              "    width: 32px;\n",
              "  }\n",
              "\n",
              "  .colab-df-quickchart:hover {\n",
              "    background-color: #E2EBFA;\n",
              "    box-shadow: 0px 1px 2px rgba(60, 64, 67, 0.3), 0px 1px 3px 1px rgba(60, 64, 67, 0.15);\n",
              "    fill: #174EA6;\n",
              "  }\n",
              "\n",
              "  [theme=dark] .colab-df-quickchart {\n",
              "    background-color: #3B4455;\n",
              "    fill: #D2E3FC;\n",
              "  }\n",
              "\n",
              "  [theme=dark] .colab-df-quickchart:hover {\n",
              "    background-color: #434B5C;\n",
              "    box-shadow: 0px 1px 3px 1px rgba(0, 0, 0, 0.15);\n",
              "    filter: drop-shadow(0px 1px 2px rgba(0, 0, 0, 0.3));\n",
              "    fill: #FFFFFF;\n",
              "  }\n",
              "</style>\n",
              "\n",
              "    <script>\n",
              "      async function quickchart(key) {\n",
              "        const containerElement = document.querySelector('#' + key);\n",
              "        const charts = await google.colab.kernel.invokeFunction(\n",
              "            'suggestCharts', [key], {});\n",
              "      }\n",
              "    </script>\n",
              "\n",
              "      <script>\n",
              "\n",
              "function displayQuickchartButton(domScope) {\n",
              "  let quickchartButtonEl =\n",
              "    domScope.querySelector('#df-545b8745-5804-4164-b831-9bf950e0d5e0 button.colab-df-quickchart');\n",
              "  quickchartButtonEl.style.display =\n",
              "    google.colab.kernel.accessAllowed ? 'block' : 'none';\n",
              "}\n",
              "\n",
              "        displayQuickchartButton(document);\n",
              "      </script>\n",
              "      <style>\n",
              "    .colab-df-container {\n",
              "      display:flex;\n",
              "      flex-wrap:wrap;\n",
              "      gap: 12px;\n",
              "    }\n",
              "\n",
              "    .colab-df-convert {\n",
              "      background-color: #E8F0FE;\n",
              "      border: none;\n",
              "      border-radius: 50%;\n",
              "      cursor: pointer;\n",
              "      display: none;\n",
              "      fill: #1967D2;\n",
              "      height: 32px;\n",
              "      padding: 0 0 0 0;\n",
              "      width: 32px;\n",
              "    }\n",
              "\n",
              "    .colab-df-convert:hover {\n",
              "      background-color: #E2EBFA;\n",
              "      box-shadow: 0px 1px 2px rgba(60, 64, 67, 0.3), 0px 1px 3px 1px rgba(60, 64, 67, 0.15);\n",
              "      fill: #174EA6;\n",
              "    }\n",
              "\n",
              "    [theme=dark] .colab-df-convert {\n",
              "      background-color: #3B4455;\n",
              "      fill: #D2E3FC;\n",
              "    }\n",
              "\n",
              "    [theme=dark] .colab-df-convert:hover {\n",
              "      background-color: #434B5C;\n",
              "      box-shadow: 0px 1px 3px 1px rgba(0, 0, 0, 0.15);\n",
              "      filter: drop-shadow(0px 1px 2px rgba(0, 0, 0, 0.3));\n",
              "      fill: #FFFFFF;\n",
              "    }\n",
              "  </style>\n",
              "\n",
              "      <script>\n",
              "        const buttonEl =\n",
              "          document.querySelector('#df-4b370067-e0be-4b2a-a3a1-c99b78047150 button.colab-df-convert');\n",
              "        buttonEl.style.display =\n",
              "          google.colab.kernel.accessAllowed ? 'block' : 'none';\n",
              "\n",
              "        async function convertToInteractive(key) {\n",
              "          const element = document.querySelector('#df-4b370067-e0be-4b2a-a3a1-c99b78047150');\n",
              "          const dataTable =\n",
              "            await google.colab.kernel.invokeFunction('convertToInteractive',\n",
              "                                                     [key], {});\n",
              "          if (!dataTable) return;\n",
              "\n",
              "          const docLinkHtml = 'Like what you see? Visit the ' +\n",
              "            '<a target=\"_blank\" href=https://colab.research.google.com/notebooks/data_table.ipynb>data table notebook</a>'\n",
              "            + ' to learn more about interactive tables.';\n",
              "          element.innerHTML = '';\n",
              "          dataTable['output_type'] = 'display_data';\n",
              "          await google.colab.output.renderOutput(dataTable, element);\n",
              "          const docLink = document.createElement('div');\n",
              "          docLink.innerHTML = docLinkHtml;\n",
              "          element.appendChild(docLink);\n",
              "        }\n",
              "      </script>\n",
              "    </div>\n",
              "  </div>\n"
            ]
          },
          "metadata": {},
          "execution_count": 838
        }
      ]
    },
    {
      "cell_type": "code",
      "source": [
        "SPX = df[\"^SPX\"] #S&P 500 index\n",
        "SPX = SPX.iloc[0]"
      ],
      "metadata": {
        "id": "MP5mwz3n06vI"
      },
      "execution_count": 839,
      "outputs": []
    },
    {
      "cell_type": "code",
      "source": [
        "SPF = df[\"ES=F\"] #S&P 500 future\n",
        "SPF = SPF.iloc[0]"
      ],
      "metadata": {
        "id": "o-QCk2jA2m9E"
      },
      "execution_count": 840,
      "outputs": []
    },
    {
      "cell_type": "code",
      "source": [
        "def FuturePrice(spotPrice, benefit, cost, r, t):\n",
        "  return (spotPrice - benefit + cost)*math.pow(1 + r, t);"
      ],
      "metadata": {
        "id": "9TTlTmwUcvnY"
      },
      "execution_count": 841,
      "outputs": []
    },
    {
      "cell_type": "code",
      "source": [
        "spotPrice = SPX;\n",
        "\n",
        "benefit = 0;\n",
        "\n",
        "miscCharges = 1;\n",
        "\n",
        "Settlement_Date = date(2023, 9, 15);\n",
        "\n",
        "Today = date.today();\n",
        "\n",
        "t = ((int((Settlement_Date - Today).days)-1)/365);   #last available day is usually day before today\n",
        "\n",
        "r = 0.05;"
      ],
      "metadata": {
        "id": "EfKIvvTZdCUU"
      },
      "execution_count": 842,
      "outputs": []
    },
    {
      "cell_type": "code",
      "source": [
        "contractPrice  = FuturePrice(spotPrice, benefit, miscCharges, r, t);"
      ],
      "metadata": {
        "id": "2Bvv6xTvjef6"
      },
      "execution_count": 843,
      "outputs": []
    },
    {
      "cell_type": "code",
      "source": [
        "print(\"As of \" + str(Today))\n",
        "print(\"Current index value: \" + str(round(SPX, 2)) + \" USD\")\n",
        "print(\"Calculated price of the future contract: \" + str(round(contractPrice, 2)) + \" USD\")\n",
        "print(\"Market price of the future contract: \" + str(round(SPF, 2)) + \" USD\")"
      ],
      "metadata": {
        "colab": {
          "base_uri": "https://localhost:8080/"
        },
        "id": "f1z_K66p4HRq",
        "outputId": "38221d1c-4bd2-488d-8e67-cbdfcd6410d8"
      },
      "execution_count": 844,
      "outputs": [
        {
          "output_type": "stream",
          "name": "stdout",
          "text": [
            "As of 2023-07-21\n",
            "Current index value: 4534.87 USD\n",
            "Calculated price of the future contract: 4569.34 USD\n",
            "Market price of the future contract: 4565.5 USD\n"
          ]
        }
      ]
    }
  ]
}